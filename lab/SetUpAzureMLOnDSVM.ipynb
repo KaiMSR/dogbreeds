{
 "cells": [
  {
   "cell_type": "markdown",
   "metadata": {},
   "source": [
    "# Set up Azure Machine Learning Service\n",
    "\n",
    "Setup\n",
    "If you are using your own development system:\n",
    "Have Azure subscription\n",
    "Start Bash or PowerShell. Can be Bash in Windows\n",
    "Install (or update) Azure CLI\n",
    "Install Conda. Be sure Conda is on the PATH.\n",
    "Install AzCopy\n",
    "Or use a Linux Data Science Virtual Machine.\n",
    "AzureML Python SDK\n",
    "Install and update the Python SDK. Install notebook and contrib\n",
    "conda create -n azureml -y Python=3.6 ipywidgets nb_conda\n",
    "conda activate azureml\n",
    "pip install --upgrade azureml-sdk[notebooks,contrib] scikit-image tensorflow tensorboardX --user \n",
    "jupyter nbextension install --py --user azureml.widgets\n",
    "jupyter nbextension enable azureml.widgets --user --py\n",
    "Install PyTorch:\n",
    "On MacOS: \n",
    "conda install pytorch torchvision -c pytorch\n",
    "On Windows\n",
    "conda install pytorch -c pytorch\n",
    "pip install torchvision\n",
    "You will need to restart Jupyter. Detailed instructions are here: https://docs.microsoft.com/en-us/azure/machine-learning/service/quickstart-create-workspace-with-python \n",
    "(Optional) Install VS Code and the VS Code extension\n",
    "Download and install Visual Studio Code then the Azure Machine Learning Extension Make sure it has a recent version of the Python SDK -- remove the folder ~/.azureml/envs if there are issuse. A current SDK will be installed when you first use AML from VSCode.\n",
    "Clone this repository\n",
    "git clone https://github.com/msraidli/dogbreeds\n",
    "jupyter notebook"
   ]
  },
  {
   "cell_type": "code",
   "execution_count": null,
   "metadata": {},
   "outputs": [],
   "source": []
  }
 ],
 "metadata": {
  "kernelspec": {
   "display_name": "Python 3",
   "language": "python",
   "name": "python3"
  },
  "language_info": {
   "codemirror_mode": {
    "name": "ipython",
    "version": 3
   },
   "file_extension": ".py",
   "mimetype": "text/x-python",
   "name": "python",
   "nbconvert_exporter": "python",
   "pygments_lexer": "ipython3",
   "version": "3.7.1"
  }
 },
 "nbformat": 4,
 "nbformat_minor": 2
}
